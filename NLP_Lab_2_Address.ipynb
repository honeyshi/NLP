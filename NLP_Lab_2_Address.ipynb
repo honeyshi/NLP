{
  "nbformat": 4,
  "nbformat_minor": 0,
  "metadata": {
    "colab": {
      "name": "NLP.Lab #2-Address.ipynb",
      "provenance": [],
      "collapsed_sections": [
        "OJ-Hir9ZRI9w"
      ],
      "include_colab_link": true
    },
    "kernelspec": {
      "name": "python3",
      "display_name": "Python 3"
    }
  },
  "cells": [
    {
      "cell_type": "markdown",
      "metadata": {
        "id": "view-in-github",
        "colab_type": "text"
      },
      "source": [
        "<a href=\"https://colab.research.google.com/github/honeyshi/NLP/blob/main/NLP_Lab_2_Address.ipynb\" target=\"_parent\"><img src=\"https://colab.research.google.com/assets/colab-badge.svg\" alt=\"Open In Colab\"/></a>"
      ]
    },
    {
      "cell_type": "code",
      "metadata": {
        "id": "TiVvIWF9hb9z"
      },
      "source": [
        "pip install yargy"
      ],
      "execution_count": null,
      "outputs": []
    },
    {
      "cell_type": "code",
      "metadata": {
        "id": "RXS2oR26hlsq"
      },
      "source": [
        "from yargy import Parser, rule, and_, not_, or_\n",
        "from yargy.interpretation import fact\n",
        "from yargy.relations import gnc_relation\n",
        "from yargy.pipelines import morph_pipeline, caseless_pipeline\n",
        "from yargy.predicates import gram, is_capitalized, caseless, eq, custom, type, in_, length_eq\n",
        "from yargy.tokenizer import Tokenizer"
      ],
      "execution_count": null,
      "outputs": []
    },
    {
      "cell_type": "code",
      "metadata": {
        "id": "iVaQN_s3hocv"
      },
      "source": [
        "import unittest\n",
        "import pandas as pd"
      ],
      "execution_count": null,
      "outputs": []
    },
    {
      "cell_type": "markdown",
      "metadata": {
        "id": "DWT4VGnnDjZX"
      },
      "source": [
        "### Yargy"
      ]
    },
    {
      "cell_type": "code",
      "metadata": {
        "id": "HxG0CY6--Eyi"
      },
      "source": [
        "AddressInformation = fact(\n",
        "    'AddressInformation',\n",
        "    ['city', 'street', 'house', 'corpus', 'building', 'office', 'flat']\n",
        ")"
      ],
      "execution_count": null,
      "outputs": []
    },
    {
      "cell_type": "code",
      "metadata": {
        "id": "joKnC0EnQ_6i"
      },
      "source": [
        "ADJF = gram('ADJF')\n",
        "NOUN = gram('NOUN')\n",
        "GEOX = gram('Geox')\n",
        "SURN = gram('Surn')\n",
        "NAME = gram('Name')\n",
        "ANIM = gram('anim')\n",
        "APRO = gram('Apro')\n",
        "INT = type('INT')\n",
        "SLASH = eq('/')\n",
        "DASH = eq('-')\n",
        "DOT = eq('.')\n",
        "COMMA = eq(',')"
      ],
      "execution_count": null,
      "outputs": []
    },
    {
      "cell_type": "code",
      "metadata": {
        "id": "C_hUBrPAo8dJ"
      },
      "source": [
        "city_type_pipeline = morph_pipeline(['город', 'гор', 'г'])"
      ],
      "execution_count": null,
      "outputs": []
    },
    {
      "cell_type": "code",
      "metadata": {
        "id": "7-VPKT8Ik8qg"
      },
      "source": [
        "CITY_RULE = rule(\n",
        "    city_type_pipeline.optional(),\n",
        "    DOT.optional(),\n",
        "    and_(\n",
        "        ADJF,\n",
        "        not_(APRO) # некоторые прилагательные еще и местоимения (ex. 'мой')\n",
        "    ).optional(),\n",
        "    GEOX\n",
        ").interpretation(AddressInformation.city)"
      ],
      "execution_count": null,
      "outputs": []
    },
    {
      "cell_type": "code",
      "metadata": {
        "id": "u39qm4oBalwM"
      },
      "source": [
        "street_type_pipeline = morph_pipeline([\n",
        "    'аллея', 'аллее', 'аллеи', 'ал',\n",
        "    'бульвар', 'бульвара', 'бульваре', 'бул',\n",
        "    'микрорайон', 'микрорайона', 'микрорайоне', 'мкр',\n",
        "    'набережная', 'набережой', 'наб',\n",
        "    'переулок', 'переулке', 'переулка', 'пер',\n",
        "    'площадь', 'площади', 'пл',\n",
        "    'проезд', 'проезде', 'проезда', 'пр', 'пр-д',\n",
        "    'проспект', 'просп', 'пр-т', 'пр-кт',\n",
        "    'тупик', 'тупике', 'тупика', 'туп',\n",
        "    'улица', 'улице', 'улицы', 'ул',\n",
        "    'шоссе', 'ш',\n",
        "])"
      ],
      "execution_count": null,
      "outputs": []
    },
    {
      "cell_type": "code",
      "metadata": {
        "id": "zw54PK5EY9Gu"
      },
      "source": [
        "STREET_NAME = or_(\n",
        "    and_(\n",
        "        ADJF,\n",
        "        not_(APRO) # некоторые прилагательные еще и местоимения (ex. 'мой')\n",
        "    ),\n",
        "    GEOX,\n",
        "    SURN # улица может быть и фамилией, например, Дьяконова\n",
        ")"
      ],
      "execution_count": null,
      "outputs": []
    },
    {
      "cell_type": "code",
      "metadata": {
        "id": "ROvNdlXvBaOi"
      },
      "source": [
        "STREET_NAME_WITH_NOUN = or_(\n",
        "    and_(\n",
        "        ADJF,\n",
        "        not_(APRO) # некоторые прилагательные еще и местоимения (ex. 'мой')\n",
        "    ),\n",
        "    NOUN,\n",
        "    GEOX,\n",
        "    SURN # улица может быть и фамилией, например, Дьяконова\n",
        ")"
      ],
      "execution_count": null,
      "outputs": []
    },
    {
      "cell_type": "code",
      "metadata": {
        "id": "LtKZJjHFgCq4"
      },
      "source": [
        "STREET_RULE = or_(\n",
        "    # улица с существительным и фамилией (ex. космонавта Комарова)\n",
        "    rule(\n",
        "        street_type_pipeline.optional(),     # 'улица'\n",
        "        DOT.optional(),                      # '.'\n",
        "        and_(\n",
        "            NOUN, ANIM                       # должность/звание (любые существительные не подходят - должно быть одушевленное)\n",
        "        ),                              \n",
        "        SURN                                 # фамилия\n",
        "    ),\n",
        "    # улица с существительным и именем (ex. мусы Джалиля)\n",
        "    rule(\n",
        "        street_type_pipeline.optional(),     # 'улица'\n",
        "        DOT.optional(),                      # '.'\n",
        "        and_(\n",
        "            NOUN, ANIM                       # должность/звание (любые существительные не подходят - должно быть одушевленное)\n",
        "        ),                               \n",
        "        NAME                                 # имя\n",
        "    ),\n",
        "    # улица с должностью, существительным и фамилией (ex. героя труда Егорова)\n",
        "    rule(\n",
        "        street_type_pipeline.optional(),     # 'улица'\n",
        "        DOT.optional(),                      # '.'\n",
        "        and_(\n",
        "            NOUN, ANIM                       # должность/звание (любые существительные не подходят - должно быть одушевленное)\n",
        "        ), \n",
        "        and_(\n",
        "            NOUN, gram('gent')               # существительное\n",
        "        ),                             \n",
        "        SURN                                 # фамилия\n",
        "    ),\n",
        "    rule(\n",
        "        street_type_pipeline.optional(),   # 'ул'\n",
        "        DOT.optional(),                    # '.'\n",
        "        in_('БМ').optional(),              # 'Б'\n",
        "        DOT.optional(),                    # '.'\n",
        "        ADJF.optional(),                   # 'Большая'\n",
        "        STREET_NAME,                       # 'Покровская'/'Арбат'/'Ленина'\n",
        "        NOUN.optional()                    # 'вал'\n",
        "    ),\n",
        "    rule(\n",
        "        in_('БМ').optional(),               # 'Б'\n",
        "        DOT.optional(),                     # '.'\n",
        "        ADJF.optional(),                    # 'Большая'\n",
        "        STREET_NAME,                        # 'Грузинская'\n",
        "        street_type_pipeline,               # 'ул'/'пер'\n",
        "        DOT.optional(),                     # '.'\n",
        "    ),\n",
        "    # улица только с существительным (чаще всего родительный падеж и множественное число)\n",
        "    # ex. 'улица Романтиков', 'проспект Героев'\n",
        "    rule(\n",
        "        street_type_pipeline.optional(),   # 'ул'\n",
        "        DOT.optional(),                    # '.'\n",
        "        and_(\n",
        "            NOUN, gram('gent'), gram('plur')\n",
        "        )      \n",
        "    ),\n",
        "    # улица с числом и существительным\n",
        "    rule(\n",
        "        street_type_pipeline.optional(),     # 'улица'\n",
        "        DOT.optional(),                      # '.'\n",
        "        INT,                                 # '30'\n",
        "        NOUN.optional(),                     # 'лет'\n",
        "        STREET_NAME_WITH_NOUN                # 'Победы'\n",
        "    ),\n",
        "    # улица с числом и прилагательным\n",
        "    rule(\n",
        "        street_type_pipeline.optional(),     # 'улица'\n",
        "        DOT.optional(),                      # '.'\n",
        "        INT,                                 # '30'\n",
        "        and_(\n",
        "            ADJF,                            # 'Почтовое'\n",
        "            not_(APRO)                       # некоторые прилагательные еще и местоимения (ex. 'мой') \n",
        "        ),\n",
        "        STREET_NAME_WITH_NOUN                # 'отделение'\n",
        "    ),\n",
        "    # улица с именем и фамилией\n",
        "    rule(\n",
        "        street_type_pipeline.optional(),     # 'улица'\n",
        "        DOT.optional(),                      # '.'\n",
        "        NAME,                                # имя \n",
        "        SURN                                 # фамилия\n",
        "    ),\n",
        "    \n",
        ").interpretation(AddressInformation.street)"
      ],
      "execution_count": null,
      "outputs": []
    },
    {
      "cell_type": "code",
      "metadata": {
        "id": "u5InW_-si_30"
      },
      "source": [
        "STREET_ALONE_RULE = or_(\n",
        "    rule(\n",
        "        street_type_pipeline.optional(),     # 'улица'\n",
        "        DOT.optional(),                      # '.'\n",
        "        INT,                                 # '30'\n",
        "        or_(\n",
        "             and_(\n",
        "                ADJF, not_(APRO)             # некоторые прилагательные еще и местоимения (ex. 'мой')\n",
        "             ),\n",
        "            GEOX\n",
        "        )\n",
        "    ),\n",
        "    rule(\n",
        "        street_type_pipeline.optional(),     # 'улица'\n",
        "        DOT.optional(),                      # '.'\n",
        "        NAME,                                # имя \n",
        "        SURN                                 # фамилия\n",
        "    )\n",
        ").interpretation(AddressInformation.street)"
      ],
      "execution_count": null,
      "outputs": []
    },
    {
      "cell_type": "code",
      "metadata": {
        "id": "UCbVKG0L-PN1"
      },
      "source": [
        "STREET_RULE_EX1 = rule(\r\n",
        "    street_type_pipeline.optional(),     # 'улица'\r\n",
        "    DOT.optional(),                      # '.'\r\n",
        "    and_(\r\n",
        "        NOUN, ANIM                       # должность/звание (любые существительные не подходят - должно быть одушевленное)\r\n",
        "    ),                              \r\n",
        "    SURN                                 # фамилия\r\n",
        ").interpretation(AddressInformation.street)"
      ],
      "execution_count": null,
      "outputs": []
    },
    {
      "cell_type": "code",
      "metadata": {
        "id": "WDelKmL8-XtT"
      },
      "source": [
        "STREET_RULE_EX2 = rule(\r\n",
        "    street_type_pipeline.optional(),   # 'ул'\r\n",
        "    DOT.optional(),                    # '.'\r\n",
        "    STREET_NAME,                       # 'Покровская'/'Арбат'/'Ленина'\r\n",
        ").interpretation(AddressInformation.street)"
      ],
      "execution_count": null,
      "outputs": []
    },
    {
      "cell_type": "code",
      "metadata": {
        "id": "LLfKaiOudTGy"
      },
      "source": [
        "house_pipeline = morph_pipeline(['д', 'дом'])"
      ],
      "execution_count": null,
      "outputs": []
    },
    {
      "cell_type": "code",
      "metadata": {
        "id": "SiwdjZRvzkZo"
      },
      "source": [
        "# учитывается случай повторения пайплайна, (ex. 'улица академика байкова дом дом дом 9')\r\n",
        "HOUSE_RULE = or_(\r\n",
        "    rule(\r\n",
        "        COMMA.optional(),\r\n",
        "        house_pipeline.optional(),\r\n",
        "        DOT.optional(),\r\n",
        "        INT,\r\n",
        "        or_(\r\n",
        "             and_(\r\n",
        "                 gram('Abbr'),\r\n",
        "                 length_eq(1)\r\n",
        "             ),\r\n",
        "            and_(\r\n",
        "                type('RU'),\r\n",
        "                length_eq(1),\r\n",
        "            )\r\n",
        "        ).optional()\r\n",
        "    ).interpretation(AddressInformation.house),\r\n",
        "    rule(\r\n",
        "        house_pipeline,\r\n",
        "        house_pipeline,\r\n",
        "        rule(\r\n",
        "             COMMA.optional(),\r\n",
        "             house_pipeline.optional(),\r\n",
        "             DOT.optional(),\r\n",
        "            INT,\r\n",
        "            or_(\r\n",
        "                and_(\r\n",
        "                    gram('Abbr'),\r\n",
        "                    length_eq(1)\r\n",
        "                ),\r\n",
        "                and_(\r\n",
        "                    type('RU'),\r\n",
        "                    length_eq(1),\r\n",
        "                )\r\n",
        "            ).optional()\r\n",
        "         ).interpretation(AddressInformation.house)\r\n",
        "    )\r\n",
        ")"
      ],
      "execution_count": null,
      "outputs": []
    },
    {
      "cell_type": "code",
      "metadata": {
        "id": "CVUE4yeZXqHH"
      },
      "source": [
        "HOUSE_RULE_WITH_NUMBER = rule(\r\n",
        "    house_pipeline.optional(),\r\n",
        "    morph_pipeline(['номер']).optional(),\r\n",
        "    rule(\r\n",
        "        INT\r\n",
        "    ).interpretation(AddressInformation.house),\r\n",
        "    and_(\r\n",
        "        type('RU'),\r\n",
        "        length_eq(1),\r\n",
        "    )\r\n",
        ")"
      ],
      "execution_count": null,
      "outputs": []
    },
    {
      "cell_type": "code",
      "metadata": {
        "id": "JP-mND97dbmg"
      },
      "source": [
        "corpus_pipeline = morph_pipeline(['корпус', 'корп', 'к'])"
      ],
      "execution_count": null,
      "outputs": []
    },
    {
      "cell_type": "code",
      "metadata": {
        "id": "DGrszm35iU1t"
      },
      "source": [
        "CORPUS_RULE = rule(\n",
        "    COMMA.optional(),\n",
        "    corpus_pipeline.optional(),\n",
        "    DOT.optional(),\n",
        "    SLASH.optional(),\n",
        "    INT\n",
        ").interpretation(AddressInformation.corpus)"
      ],
      "execution_count": null,
      "outputs": []
    },
    {
      "cell_type": "code",
      "metadata": {
        "id": "Wm1YPPeeSHUG"
      },
      "source": [
        "building_pipeline = morph_pipeline(['строение', 'ст'])"
      ],
      "execution_count": null,
      "outputs": []
    },
    {
      "cell_type": "code",
      "metadata": {
        "id": "rgFpK9lsScqF"
      },
      "source": [
        "BUILDING_RULE = rule(\r\n",
        "    COMMA.optional(),\r\n",
        "    building_pipeline.optional(),\r\n",
        "    DOT.optional(),\r\n",
        "    INT\r\n",
        ").interpretation(AddressInformation.building)"
      ],
      "execution_count": null,
      "outputs": []
    },
    {
      "cell_type": "code",
      "metadata": {
        "id": "bHQBVZ2zi7rT"
      },
      "source": [
        "OFFICE_RULE = rule(\n",
        "    COMMA.optional(),\n",
        "    eq('офис'),\n",
        "    DOT.optional(),\n",
        "    INT\n",
        ").interpretation(AddressInformation.office)"
      ],
      "execution_count": null,
      "outputs": []
    },
    {
      "cell_type": "code",
      "metadata": {
        "id": "V-pFIZIKeWcQ"
      },
      "source": [
        "flat_pipeline = morph_pipeline(['квартира', 'кв'])"
      ],
      "execution_count": null,
      "outputs": []
    },
    {
      "cell_type": "code",
      "metadata": {
        "id": "rHNwnzbqjuXj"
      },
      "source": [
        "FLAT_RULE = rule(\n",
        "    COMMA.optional(),\n",
        "    flat_pipeline.optional(),\n",
        "    DOT.optional(),\n",
        "    INT\n",
        ").interpretation(AddressInformation.flat)"
      ],
      "execution_count": null,
      "outputs": []
    },
    {
      "cell_type": "code",
      "metadata": {
        "id": "Bk2AANAEmylC"
      },
      "source": [
        "ADDRESS_RULE = or_(\n",
        "    rule(CITY_RULE, STREET_RULE, HOUSE_RULE, CORPUS_RULE),\n",
        "    # city after street\n",
        "    rule(STREET_RULE, CITY_RULE, HOUSE_RULE, CORPUS_RULE, FLAT_RULE),\n",
        "    rule(STREET_RULE, CITY_RULE, HOUSE_RULE, CORPUS_RULE, OFFICE_RULE),\n",
        "    rule(STREET_RULE, CITY_RULE, HOUSE_RULE, BUILDING_RULE, FLAT_RULE),\n",
        "    rule(STREET_RULE, CITY_RULE, HOUSE_RULE, BUILDING_RULE, OFFICE_RULE),\n",
        "    rule(STREET_RULE, CITY_RULE, HOUSE_RULE, FLAT_RULE),\n",
        "    rule(STREET_RULE, CITY_RULE, HOUSE_RULE, OFFICE_RULE),\n",
        "    rule(STREET_RULE, CITY_RULE, HOUSE_RULE, CORPUS_RULE),\n",
        "    rule(STREET_RULE, CITY_RULE, HOUSE_RULE, BUILDING_RULE),\n",
        "    rule(STREET_RULE, CITY_RULE, HOUSE_RULE),\n",
        "    # city last\n",
        "    rule(STREET_RULE, HOUSE_RULE, CORPUS_RULE, FLAT_RULE, CITY_RULE),\n",
        "    rule(STREET_RULE, HOUSE_RULE, CORPUS_RULE, OFFICE_RULE, CITY_RULE),\n",
        "    rule(STREET_RULE, HOUSE_RULE, BUILDING_RULE, FLAT_RULE, CITY_RULE),\n",
        "    rule(STREET_RULE, HOUSE_RULE, BUILDING_RULE, OFFICE_RULE, CITY_RULE),\n",
        "    rule(STREET_RULE, HOUSE_RULE, FLAT_RULE, CITY_RULE),\n",
        "    rule(STREET_RULE, HOUSE_RULE, OFFICE_RULE, CITY_RULE),\n",
        "    rule(STREET_RULE, HOUSE_RULE, CORPUS_RULE, CITY_RULE),\n",
        "    rule(STREET_RULE, HOUSE_RULE, BUILDING_RULE, CITY_RULE),\n",
        "    rule(STREET_RULE, HOUSE_RULE, CITY_RULE),\n",
        "    rule(STREET_RULE, CITY_RULE),\n",
        "    # street\n",
        "    rule(STREET_RULE, HOUSE_RULE, CORPUS_RULE, FLAT_RULE),\n",
        "    rule(STREET_RULE, HOUSE_RULE, CORPUS_RULE, OFFICE_RULE),\n",
        "    rule(STREET_RULE, HOUSE_RULE, BUILDING_RULE, FLAT_RULE),\n",
        "    rule(STREET_RULE, HOUSE_RULE, BUILDING_RULE, OFFICE_RULE),\n",
        "    rule(STREET_RULE, HOUSE_RULE, FLAT_RULE),\n",
        "    rule(STREET_RULE, HOUSE_RULE, OFFICE_RULE),\n",
        "    rule(STREET_RULE, HOUSE_RULE, CORPUS_RULE),\n",
        "    rule(STREET_RULE, HOUSE_RULE, BUILDING_RULE),\n",
        "    rule(STREET_RULE, HOUSE_RULE),\n",
        "    rule(HOUSE_RULE, FLAT_RULE, STREET_RULE),\n",
        "    rule(HOUSE_RULE_WITH_NUMBER, STREET_RULE),\n",
        "    rule(STREET_ALONE_RULE),\n",
        "    # city first\n",
        "    rule(CITY_RULE, STREET_RULE, HOUSE_RULE, CORPUS_RULE, FLAT_RULE),\n",
        "    rule(CITY_RULE, STREET_RULE, HOUSE_RULE, CORPUS_RULE, OFFICE_RULE),\n",
        "    rule(CITY_RULE, STREET_RULE, HOUSE_RULE, BUILDING_RULE, FLAT_RULE),\n",
        "    rule(CITY_RULE, STREET_RULE, HOUSE_RULE, BUILDING_RULE, OFFICE_RULE),\n",
        "    rule(CITY_RULE, STREET_RULE, HOUSE_RULE, FLAT_RULE),\n",
        "    rule(CITY_RULE, STREET_RULE, HOUSE_RULE, OFFICE_RULE),\n",
        "    rule(CITY_RULE, STREET_RULE, HOUSE_RULE, BUILDING_RULE),\n",
        "    rule(CITY_RULE, STREET_RULE, HOUSE_RULE),\n",
        "    rule(CITY_RULE, STREET_RULE),\n",
        "    rule(CITY_RULE),\n",
        ").interpretation(AddressInformation)"
      ],
      "execution_count": null,
      "outputs": []
    },
    {
      "cell_type": "code",
      "metadata": {
        "id": "j3hYy479_euj"
      },
      "source": [
        "ADDRESS_RULE_EX1 = rule(STREET_RULE_EX1, HOUSE_RULE).interpretation(AddressInformation)"
      ],
      "execution_count": null,
      "outputs": []
    },
    {
      "cell_type": "code",
      "metadata": {
        "id": "alkRGm1A_ycI"
      },
      "source": [
        "ADDRESS_RULE_EX2 = rule(STREET_RULE_EX2, HOUSE_RULE, CITY_RULE).interpretation(AddressInformation)"
      ],
      "execution_count": null,
      "outputs": []
    },
    {
      "cell_type": "markdown",
      "metadata": {
        "id": "HhpWXwQP9bxV"
      },
      "source": [
        "# Тесты"
      ]
    },
    {
      "cell_type": "markdown",
      "metadata": {
        "id": "OJ-Hir9ZRI9w"
      },
      "source": [
        "### Тесты номер квартиры"
      ]
    },
    {
      "cell_type": "code",
      "metadata": {
        "id": "U6ZAVWZw4iri"
      },
      "source": [
        "class TestAppartment(unittest.TestCase):\r\n",
        "    def setUp(self):\r\n",
        "        self.Parser = Parser(ADDRESS_RULE)\r\n",
        "\r\n",
        "    def test_1(self):\r\n",
        "        testing_address = 'проспект комсомольский 50'\r\n",
        "        res = self.Parser.find(testing_address).fact\r\n",
        "        self.assertEqual(res.flat, None)\r\n",
        "\r\n",
        "    def test_2(self):\r\n",
        "        testing_address = 'город липецк улица катукова 36 a'\r\n",
        "        res = self.Parser.find(testing_address).fact\r\n",
        "        self.assertEqual(res.flat, None)\r\n",
        "\r\n",
        "    def test_3(self):\r\n",
        "        testing_address = 'сургут улица рабочая дом 31а'\r\n",
        "        res = self.Parser.find(testing_address).fact\r\n",
        "        self.assertEqual(res.flat, None)\r\n",
        "\r\n",
        "    def test_4(self):\r\n",
        "        testing_address = 'город липецк доватора 18'\r\n",
        "        res = self.Parser.find(testing_address).fact\r\n",
        "        self.assertEqual(res.flat, None)\r\n",
        "\r\n",
        "    def test_5(self):\r\n",
        "        testing_address = 'ну бехтеева 9 квартира 310'\r\n",
        "        res = self.Parser.find(testing_address).fact\r\n",
        "        self.assertEqual(res.flat, 'квартира 310')\r\n",
        "\r\n",
        "    def test_6(self):\r\n",
        "        testing_address = 'Кусковская 19 корпус 1'\r\n",
        "        res = self.Parser.find(testing_address).fact\r\n",
        "        self.assertEqual(res.flat, None)\r\n",
        "\r\n",
        "    def test_7(self):\r\n",
        "        testing_address = 'марша захарова 12 маршала захарова дом 12'\r\n",
        "        res = self.Parser.find(testing_address).fact\r\n",
        "        self.assertEqual(res.flat, None)\r\n",
        "\r\n",
        "    def test_8(self):\r\n",
        "        testing_address = 'null'\r\n",
        "        res = self.Parser.find(testing_address)\r\n",
        "        self.assertEqual(res, None)"
      ],
      "execution_count": null,
      "outputs": []
    },
    {
      "cell_type": "markdown",
      "metadata": {
        "id": "lRP8Kv7xRPL_"
      },
      "source": [
        "### Тесты город"
      ]
    },
    {
      "cell_type": "code",
      "metadata": {
        "id": "fS6QiyZ1h3DI"
      },
      "source": [
        "class TestCity(unittest.TestCase):\n",
        "    def setUp(self):\n",
        "        self.Parser = Parser(ADDRESS_RULE)\n",
        "\n",
        "    def test_1city(self):\n",
        "        testing_address = 'проспект комсомольский 50'\n",
        "        res = self.Parser.find(testing_address).fact\n",
        "        self.assertEqual(res.city, None)\n",
        "\n",
        "    def test_2city(self):\n",
        "        testing_address = 'город липецк улица катукова 36 a'\n",
        "        res = self.Parser.find(testing_address).fact\n",
        "        self.assertEqual(res.city, 'город липецк')\n",
        "\n",
        "    def test_3city(self):\n",
        "        testing_address = 'сургут улица рабочая дом 31а'\n",
        "        res = self.Parser.find(testing_address).fact\n",
        "        self.assertEqual(res.city, 'сургут')\n",
        "\n",
        "    def test_4city(self):\n",
        "        testing_address = 'город липецк доватора 18'\n",
        "        res = self.Parser.find(testing_address).fact\n",
        "        self.assertEqual(res.city, 'город липецк')\n",
        "\n",
        "    def test_5city(self):\n",
        "        testing_address = 'ну бехтеева 9 квартира 310'\n",
        "        res = self.Parser.find(testing_address).fact\n",
        "        self.assertEqual(res.city, None)\n",
        "\n",
        "    def test_6city(self):\n",
        "        testing_address = 'сургут югорская 30/2'\n",
        "        res = self.Parser.find(testing_address).fact\n",
        "        self.assertEqual(res.city, 'сургут')\n",
        "\n",
        "    def test_7city(self):\n",
        "        testing_address = 'индекс 12 мне вот этого не надо'\n",
        "        res = self.Parser.find(testing_address)\n",
        "        self.assertEqual(res, None)\n",
        "\n",
        "    def test_8city(self):\n",
        "        testing_address = 'ты сургут улица 30 лет победы'\n",
        "        res = self.Parser.find(testing_address).fact\n",
        "        self.assertEqual(res.city, 'сургут')\n",
        "\n",
        "    def test_9city(self):\n",
        "        testing_address = 'надо 50% город нальчик горького 1257'\n",
        "        res = self.Parser.find(testing_address).fact\n",
        "        self.assertEqual(res.city, 'город нальчик')\n",
        "\n",
        "    def test_10city(self):\n",
        "        testing_address = 'null'\n",
        "        res = self.Parser.find(testing_address)\n",
        "        self.assertEqual(res, None)\n",
        "\n",
        "    def test_11city(self):\n",
        "        testing_address = '60 мегабит я'\n",
        "        res = self.Parser.find(testing_address)\n",
        "        self.assertEqual(res, None)\n",
        "\n",
        "    def test_12city(self):\n",
        "        testing_address = 'сургут крылова 53/4'\n",
        "        res = self.Parser.find(testing_address).fact\n",
        "        self.assertEqual(res.city, 'сургут')\n",
        "\n",
        "    def test_13city(self):\n",
        "        testing_address = 'так москва хамовнический вал но я думаю что я еще обсужу со своими домашними то есть вот у нас цифровое телевидение есть но акадо вот вы не спешите я тогда вам наберу но либо в приложения'\n",
        "        res = self.Parser.find(testing_address).fact\n",
        "        self.assertEqual(res.city, 'москва')\n",
        "\n",
        "    def test_14city(self):\n",
        "        testing_address = 'мое 3 парковая'\n",
        "        res = self.Parser.find(testing_address).fact\n",
        "        self.assertEqual(res.city, None)\n",
        "\n",
        "    def test_15city(self):\n",
        "        testing_address = 'Пришвина 17'\n",
        "        res = self.Parser.find(testing_address).fact\n",
        "        self.assertEqual(res.city, None)\n",
        "\n",
        "    def test_16city(self):\n",
        "        testing_address = 'Старый Гай 1 корпус 2'\n",
        "        res = self.Parser.find(testing_address).fact\n",
        "        self.assertEqual(res.city, None)"
      ],
      "execution_count": null,
      "outputs": []
    },
    {
      "cell_type": "markdown",
      "metadata": {
        "id": "mvn9woTJRcMg"
      },
      "source": [
        "### Тесты номер дома"
      ]
    },
    {
      "cell_type": "code",
      "metadata": {
        "id": "HfYhe4O45Bzv"
      },
      "source": [
        "class TestHome(unittest.TestCase):\r\n",
        "    def setUp(self):\r\n",
        "        self.Parser = Parser(ADDRESS_RULE)\r\n",
        "\r\n",
        "    def test_1house(self):\r\n",
        "        testing_address = 'проспект комсомольский 50'\r\n",
        "        res = self.Parser.find(testing_address).fact\r\n",
        "        self.assertEqual(res.house, '50')\r\n",
        "\r\n",
        "    def test_2house(self):\r\n",
        "        testing_address = 'город липецк улица катукова 36 а'\r\n",
        "        res = self.Parser.find(testing_address).fact\r\n",
        "        self.assertEqual(res.house, '36 а')\r\n",
        "\r\n",
        "    def test_3house(self):\r\n",
        "        testing_address = 'сургут улица рабочая дом 31а'\r\n",
        "        res = self.Parser.find(testing_address).fact\r\n",
        "        self.assertEqual(res.house, 'дом 31а')\r\n",
        "\r\n",
        "    def test_4house(self):\r\n",
        "        testing_address = 'город липецк доватора 18'\r\n",
        "        res = self.Parser.find(testing_address).fact\r\n",
        "        self.assertEqual(res.house, '18')\r\n",
        "\r\n",
        "    def test_5house(self):\r\n",
        "        testing_address = 'ну бехтеева 9 квартира 310'\r\n",
        "        res = self.Parser.find(testing_address).fact\r\n",
        "        self.assertEqual(res.house, '9')\r\n",
        "\r\n",
        "    def test_6house(self):\r\n",
        "        testing_address = 'артема 32 квартира 8'\r\n",
        "        res = self.Parser.find(testing_address).fact\r\n",
        "        self.assertEqual(res.house, '32')\r\n",
        "\r\n",
        "    def test_7house(self):\r\n",
        "        testing_address = 'город липецк полиграфическая дом 4'\r\n",
        "        res = self.Parser.find(testing_address).fact\r\n",
        "        self.assertEqual(res.house, 'дом 4')\r\n",
        "\r\n",
        "    def test_8house(self):\r\n",
        "        testing_address = 'сколько стоит нет arkadata у нас есть москва каширское шоссе 55 корпус 1'\r\n",
        "        res = self.Parser.find(testing_address).fact\r\n",
        "        self.assertEqual(res.house, '55')\r\n",
        "        self.assertEqual(res.corpus, 'корпус 1')\r\n",
        "\r\n",
        "    def test_9house(self):\r\n",
        "        testing_address = 'люберцы октябрьский проспект 10 корпус 1'\r\n",
        "        res = self.Parser.find(testing_address).fact\r\n",
        "        self.assertEqual(res.house, '10')\r\n",
        "        self.assertEqual(res.corpus, 'корпус 1')\r\n",
        "\r\n",
        "    def test_10house(self):\r\n",
        "        testing_address = 'бульвар миттова 24'\r\n",
        "        res = self.Parser.find(testing_address).fact\r\n",
        "        self.assertEqual(res.house, '24')\r\n",
        "\r\n",
        "    def test_11house(self):\r\n",
        "        testing_address = 'стол вы знаете москва алтуфьевское 78'\r\n",
        "        res = self.Parser.find(testing_address).fact\r\n",
        "        self.assertEqual(res.house, '78')"
      ],
      "execution_count": null,
      "outputs": []
    },
    {
      "cell_type": "markdown",
      "metadata": {
        "id": "g4G14V_wRw9A"
      },
      "source": [
        "### Тесты улица"
      ]
    },
    {
      "cell_type": "code",
      "metadata": {
        "id": "Hwte3kZn5OFv"
      },
      "source": [
        "class TestStreet(unittest.TestCase):\r\n",
        "    def setUp(self):\r\n",
        "        self.Parser = Parser(ADDRESS_RULE)\r\n",
        "\r\n",
        "    def test_shkolnaya(self):\r\n",
        "        testing_address = 'санкт-петербург школьная 20'\r\n",
        "        res = self.Parser.find(testing_address).fact\r\n",
        "        self.assertEqual(res.city, 'санкт-петербург')\r\n",
        "        self.assertEqual(res.street, 'школьная')\r\n",
        "        self.assertEqual(res.house, '20')\r\n",
        "\r\n",
        "    def test_full_gagarina(self):\r\n",
        "        testing_address = 'санкт-петербург юрия гагарина 22 к2'\r\n",
        "        res = self.Parser.find(testing_address).fact\r\n",
        "        self.assertEqual(res.city, 'санкт-петербург')\r\n",
        "        self.assertEqual(res.street, 'юрия гагарина')\r\n",
        "        self.assertEqual(res.house, '22')\r\n",
        "        self.assertEqual(res.corpus, 'к2')\r\n",
        "\r\n",
        "    def test_short_gagarina(self):\r\n",
        "        testing_address = 'питер гагарина 22 к2'\r\n",
        "        res = self.Parser.find(testing_address).fact\r\n",
        "        self.assertEqual(res.street, 'гагарина')\r\n",
        "        self.assertEqual(res.house, '22')\r\n",
        "        self.assertEqual(res.corpus, 'к2')\r\n",
        "\r\n",
        "    def test_untolovsky(self):\r\n",
        "        testing_address = \"санкт-петербург;юнтоловский 43 корпус 1\"\r\n",
        "        res = self.Parser.find(testing_address).fact\r\n",
        "        self.assertEqual(res.city, 'санкт-петербург')\r\n",
        "        self.assertEqual(res.street, 'юнтоловский')\r\n",
        "        self.assertEqual(res.house, '43')\r\n",
        "        self.assertEqual(res.corpus, 'корпус 1')\r\n",
        "\r\n",
        "\r\n",
        "    def test_untolovsky_str(self):\r\n",
        "        testing_address = \"санкт-петербург;юнтоловский 43 строение 1\"\r\n",
        "        res = self.Parser.find(testing_address).fact\r\n",
        "        self.assertEqual(res.city, 'санкт-петербург')\r\n",
        "        self.assertEqual(res.street, 'юнтоловский')\r\n",
        "        self.assertEqual(res.house, '43')\r\n",
        "        self.assertEqual(res.building, 'строение 1')\r\n",
        "\r\n",
        "    def test_untolovsky_str(self):\r\n",
        "        testing_address = \"юнтоловский 43 ст 1\"\r\n",
        "        res = self.Parser.find(testing_address).fact\r\n",
        "        self.assertEqual(res.street, 'юнтоловский')\r\n",
        "        self.assertEqual(res.house, '43')\r\n",
        "        self.assertEqual(res.building, 'ст 1')"
      ],
      "execution_count": null,
      "outputs": []
    },
    {
      "cell_type": "markdown",
      "metadata": {
        "id": "ohVLLXoBV9Vv"
      },
      "source": [
        "### Тесты только улица"
      ]
    },
    {
      "cell_type": "code",
      "metadata": {
        "id": "TnIlbxf75mHw"
      },
      "source": [
        "class TestStreet(unittest.TestCase):\r\n",
        "    def setUp(self):\r\n",
        "        self.Parser = Parser(ADDRESS_RULE)\r\n",
        "        self.Parser_EX = Parser(ADDRESS_RULE_EX1)\r\n",
        "\r\n",
        "    def test_1(self):\r\n",
        "        testing_address = 'проспект комсомольский 50'\r\n",
        "        res = self.Parser.find(testing_address).fact\r\n",
        "        self.assertEqual(res.street, 'проспект комсомольский')\r\n",
        "\r\n",
        "    def test_2(self):\r\n",
        "        testing_address = 'город липецк улица катукова 36 a'\r\n",
        "        res = self.Parser.find(testing_address).fact\r\n",
        "        self.assertEqual(res.street, 'улица катукова')\r\n",
        "\r\n",
        "    def test_3(self):\r\n",
        "        testing_address = 'сургут улица рабочая дом 31а'\r\n",
        "        res = self.Parser.find(testing_address).fact\r\n",
        "        self.assertEqual(res.street, 'улица рабочая')\r\n",
        "\r\n",
        "    def test_4(self):\r\n",
        "        testing_address = 'город липецк доватора 18'\r\n",
        "        res = self.Parser.find(testing_address).fact\r\n",
        "        self.assertEqual(res.street, 'доватора')\r\n",
        "\r\n",
        "    def test_5(self):\r\n",
        "        testing_address = 'ну бехтеева 9 квартира 310'\r\n",
        "        res = self.Parser.find(testing_address).fact\r\n",
        "        self.assertEqual(res.street, 'бехтеева')\r\n",
        "\r\n",
        "    def test_6(self):\r\n",
        "        testing_address = 'улица меркулова дом 24'\r\n",
        "        res = self.Parser.find(testing_address).fact\r\n",
        "        self.assertEqual(res.street, 'улица меркулова')\r\n",
        "\r\n",
        "    def test_7(self):\r\n",
        "        testing_address = 'октябрьская 48 частный дом город сургут'\r\n",
        "        res = self.Parser.find(testing_address).fact\r\n",
        "        self.assertEqual(res.street, 'октябрьская')\r\n",
        "\r\n",
        "    def test_8(self):\r\n",
        "        testing_address = 'сколько улица 30 лет победы 50 46'\r\n",
        "        res = self.Parser.find(testing_address).fact\r\n",
        "        self.assertEqual(res.street, 'улица 30 лет победы')\r\n",
        "\r\n",
        "    def test_9(self):\r\n",
        "        testing_address = 'тюменский тракт 10'\r\n",
        "        res = self.Parser.find(testing_address).fact\r\n",
        "        self.assertEqual(res.street, 'тюменский тракт')\r\n",
        "\r\n",
        "    def test_10(self):\r\n",
        "        testing_address = 'сургут югорская 30/2'\r\n",
        "        res = self.Parser.find(testing_address).fact\r\n",
        "        self.assertEqual(res.street, 'югорская')\r\n",
        "\r\n",
        "    def test_11(self):\r\n",
        "        testing_address = 'индекс 12 мне вот этого не надо'\r\n",
        "        res = self.Parser.find(testing_address)\r\n",
        "        self.assertEqual(res, None)\r\n",
        "\r\n",
        "    def test_12(self):\r\n",
        "        testing_address = 'старый оскол микрорайон олимпийский дом 23 квартира 105'\r\n",
        "        res = self.Parser.find(testing_address).fact\r\n",
        "        self.assertEqual(res.street, 'микрорайон олимпийский')\r\n",
        "\r\n",
        "    def test_13(self):\r\n",
        "        testing_address = 'город сургут улица фармана салманова 4'\r\n",
        "        res = self.Parser.find(testing_address).fact\r\n",
        "        self.assertEqual(res.street, 'улица фармана салманова')\r\n",
        "\r\n",
        "    def test_14(self):\r\n",
        "        testing_address = 'ты сургут улица 30 лет победы'\r\n",
        "        res = self.Parser.find(testing_address).fact\r\n",
        "        self.assertEqual(res.street, 'улица 30 лет победы')\r\n",
        "\r\n",
        "    def test_15(self):\r\n",
        "        testing_address = 'проезд мунарева 2'\r\n",
        "        res = self.Parser.find(testing_address).fact\r\n",
        "        self.assertEqual(res.street, 'проезд мунарева')\r\n",
        "\r\n",
        "    def test_16(self):\r\n",
        "        testing_address = 'домашний адрес где я живу'\r\n",
        "        res = self.Parser.find(testing_address)\r\n",
        "        self.assertEqual(res, None)\r\n",
        "\r\n",
        "    def test_17(self):\r\n",
        "        testing_address = 'артема 32 квартира 8'\r\n",
        "        res = self.Parser.find(testing_address).fact\r\n",
        "        self.assertEqual(res.street, 'артема')\r\n",
        "\r\n",
        "    def test_18(self):\r\n",
        "        testing_address = 'знаете знаете у меня дорогая девочка у меня уже все есть и менять из из одного переходить на другой я не хочу поэтому какой город квартира какой ничего я вам сообщать не хочу поэтому до свидания я ничего не'\r\n",
        "        res = self.Parser.find(testing_address)\r\n",
        "        self.assertEqual(res, None)\r\n",
        "\r\n",
        "    def test_19(self):\r\n",
        "        testing_address = 'новогиреевская 34'\r\n",
        "        res = self.Parser.find(testing_address).fact\r\n",
        "        self.assertEqual(res.street, 'новогиреевская')\r\n",
        "\r\n",
        "    def test_20(self):\r\n",
        "        testing_address = 'мое 3 парковая'\r\n",
        "        res = self.Parser.find(testing_address).fact\r\n",
        "        self.assertEqual(res.street, '3 парковая')\r\n",
        "\r\n",
        "    def test_21(self):\r\n",
        "        testing_address = 'москва мусы джалиля 38 корпус 2'\r\n",
        "        res = self.Parser.find(testing_address).fact\r\n",
        "        self.assertEqual(res.street, 'мусы джалиля')\r\n",
        "\r\n",
        "    def test_22(self):\r\n",
        "        testing_address = 'надо 50% город нальчик горького 1257'\r\n",
        "        res = self.Parser.find(testing_address).fact\r\n",
        "        self.assertEqual(res.street, 'горького')\r\n",
        "\r\n",
        "    def test_23(self):\r\n",
        "        testing_address = 'сколько стоит нет arkadata у нас есть москва каширское шоссе 55 корпус 1'\r\n",
        "        res = self.Parser.find(testing_address).fact\r\n",
        "        self.assertEqual(res.street, 'каширское шоссе')\r\n",
        "\r\n",
        "    def test_24(self):\r\n",
        "        testing_address = 'зеленые аллеи город видное дом 8'\r\n",
        "        res = self.Parser.find(testing_address).fact\r\n",
        "        self.assertEqual(res.street, 'зеленые аллеи')\r\n",
        "\r\n",
        "    def test_25(self):\r\n",
        "        testing_address = 'дмитрия ульянова 17 корпус 1 москва'\r\n",
        "        res = self.Parser.find(testing_address).fact\r\n",
        "        self.assertEqual(res.street, 'дмитрия ульянова')\r\n",
        "\r\n",
        "    def test_26(self):\r\n",
        "        testing_address = 'null'\r\n",
        "        res = self.Parser.find(testing_address)\r\n",
        "        self.assertEqual(res, None)\r\n",
        "\r\n",
        "    def test_27(self):\r\n",
        "        testing_address = 'стол вы знаете москва алтуфьевское 78'\r\n",
        "        res = self.Parser.find(testing_address).fact\r\n",
        "        self.assertEqual(res.street, 'алтуфьевское')\r\n",
        "\r\n",
        "    def test_28(self):\r\n",
        "        testing_address = 'марша захарова 12 маршала захарова дом 12'\r\n",
        "        #res = self.Parser.find(testing_address).fact\r\n",
        "        res = self.Parser_EX.find(testing_address).fact\r\n",
        "        self.assertEqual(res.street, 'маршала захарова')\r\n",
        "        \r\n",
        "\r\n",
        "    def test_29(self):\r\n",
        "        testing_address = 'а зачем'\r\n",
        "        res = self.Parser.find(testing_address)\r\n",
        "        self.assertEqual(res, None)\r\n",
        "\r\n",
        "    def test_30(self):\r\n",
        "        testing_address = 'Кавказский 16'\r\n",
        "        res = self.Parser.find(testing_address).fact\r\n",
        "        self.assertEqual(res.street, 'Кавказский')\r\n",
        "\r\n",
        "    def test_31(self):\r\n",
        "        testing_address = 'Старый Гай 1 корпус 2'\r\n",
        "        res = self.Parser.find(testing_address).fact\r\n",
        "        self.assertEqual(res.street, 'Старый Гай')\r\n",
        "\r\n",
        "    def test_32(self):\r\n",
        "        testing_address = 'зелинского улица зелинского дом 2'\r\n",
        "        res = self.Parser.find(testing_address).fact\r\n",
        "        self.assertEqual(res.street, 'улица зелинского')"
      ],
      "execution_count": null,
      "outputs": []
    },
    {
      "cell_type": "markdown",
      "metadata": {
        "id": "Kva4VZZeWF93"
      },
      "source": [
        "### Тесты весь адрес"
      ]
    },
    {
      "cell_type": "code",
      "metadata": {
        "id": "jGF8NbJ15veD"
      },
      "source": [
        "class TestWholeAddress(unittest.TestCase):\r\n",
        "    def setUp(self):\r\n",
        "        self.Parser = Parser(ADDRESS_RULE)\r\n",
        "        self.Parser_EX2 = Parser(ADDRESS_RULE_EX2)\r\n",
        "\r\n",
        "    def test_one(self):\r\n",
        "        testing_address = 'проспект комсомольский 50'\r\n",
        "        res = self.Parser.find(testing_address).fact\r\n",
        "        self.assertEqual(res.street, 'проспект комсомольский')\r\n",
        "        self.assertEqual(res.house, '50')\r\n",
        "\r\n",
        "\r\n",
        "    def test_second(self):\r\n",
        "        testing_address = 'город липецк улица катукова 36 а'\r\n",
        "        res = self.Parser.find(testing_address).fact\r\n",
        "        self.assertEqual(res.city, 'город липецк')\r\n",
        "        self.assertEqual(res.street, 'улица катукова')\r\n",
        "        self.assertEqual(res.house, '36 а')\r\n",
        "\r\n",
        "\r\n",
        "    def test_third(self):\r\n",
        "        testing_address = 'сургут улица рабочая дом 31а'\r\n",
        "        res = self.Parser.find(testing_address).fact\r\n",
        "        self.assertEqual(res.city, 'сургут')\r\n",
        "        self.assertEqual(res.street, 'улица рабочая')\r\n",
        "        self.assertEqual(res.house, 'дом 31а')\r\n",
        "\r\n",
        "\r\n",
        "    def test_fouth(self):\r\n",
        "        testing_address = 'город липецк доватора 18'\r\n",
        "        res = self.Parser.find(testing_address).fact\r\n",
        "        self.assertEqual(res.city, 'город липецк')\r\n",
        "        self.assertEqual(res.street, 'доватора')\r\n",
        "        self.assertEqual(res.house, '18')\r\n",
        "\r\n",
        "    def test_behtereva(self):\r\n",
        "        testing_address =  'ну бехтеева 9 квартира 310'\r\n",
        "        res = self.Parser.find(testing_address).fact\r\n",
        "        self.assertEqual(res.city, None)\r\n",
        "        self.assertEqual(res.street, 'бехтеева')\r\n",
        "        self.assertEqual(res.house, '9')\r\n",
        "        self.assertEqual(res.flat, 'квартира 310')\r\n",
        "\r\n",
        "    def test_moskovskaya(self):\r\n",
        "        testing_address =  'московская 34б'\r\n",
        "        res = self.Parser.find(testing_address).fact\r\n",
        "        self.assertEqual(res.city, None)\r\n",
        "        self.assertEqual(res.street, 'московская')\r\n",
        "        self.assertEqual(res.house, '34б')\r\n",
        "        self.assertEqual(res.flat, None)\r\n",
        "\r\n",
        "    def test_minina(self):\r\n",
        "        testing_address =  'улица минина дом 1'\r\n",
        "        res = self.Parser.find(testing_address).fact\r\n",
        "        self.assertEqual(res.city, None)\r\n",
        "        self.assertEqual(res.street, 'улица минина')\r\n",
        "        self.assertEqual(res.house, 'дом 1')\r\n",
        "        self.assertEqual(res.flat, None)\r\n",
        "\r\n",
        "    def test_30_let_victory(self):\r\n",
        "        testing_address =  'сколько улица 30 лет победы 50 46'\r\n",
        "        res = self.Parser.find(testing_address).fact\r\n",
        "        self.assertEqual(res.city, None)\r\n",
        "        self.assertEqual(res.street, 'улица 30 лет победы')\r\n",
        "        self.assertEqual(res.house, '50')\r\n",
        "        self.assertEqual(res.flat, '46')\r\n",
        "\r\n",
        "    def test_tract(self):\r\n",
        "        testing_address =  'тюменский тракт 10'\r\n",
        "        res = self.Parser.find(testing_address).fact\r\n",
        "        self.assertEqual(res.city, None)\r\n",
        "        self.assertEqual(res.street, 'тюменский тракт')\r\n",
        "        self.assertEqual(res.house, '10')\r\n",
        "        self.assertEqual(res.flat, None)\r\n",
        "\r\n",
        "    def test_beregovaya(self):\r\n",
        "        testing_address =  'береговая 43 береговая 43 сургут'\r\n",
        "        #res = self.Parser.find(testing_address).fact\r\n",
        "        res = self.Parser_EX2.find(testing_address).fact\r\n",
        "        self.assertEqual(res.city, 'сургут')\r\n",
        "        self.assertEqual(res.street, 'береговая')\r\n",
        "        self.assertEqual(res.house, '43')\r\n",
        "        self.assertEqual(res.flat, None)\r\n",
        "\r\n",
        "    def test_yuogorskaya(self):\r\n",
        "        testing_address =  'сургут югорская 30/2'\r\n",
        "        res = self.Parser.find(testing_address).fact\r\n",
        "        self.assertEqual(res.city, 'сургут')\r\n",
        "        self.assertEqual(res.street, 'югорская')\r\n",
        "        self.assertEqual(res.house, '30')\r\n",
        "        self.assertEqual(res.corpus, '/2')\r\n",
        "        self.assertEqual(res.flat, None)\r\n",
        "\r\n",
        "    def test_index(self):\r\n",
        "        testing_address = 'индекс 12 мне вот этого не надо'\r\n",
        "        res = self.Parser.find(testing_address)\r\n",
        "        self.assertEqual(res, None)\r\n",
        "\r\n",
        "    def test_salmanova(self):\r\n",
        "        testing_address = 'город сургут улица фармана салманова 4'\r\n",
        "        res = self.Parser.find(testing_address).fact\r\n",
        "        self.assertEqual(res.city, 'город сургут')\r\n",
        "        self.assertEqual(res.street, 'улица фармана салманова')\r\n",
        "        self.assertEqual(res.house, '4')\r\n",
        "        self.assertEqual(res.flat, None)\r\n",
        "\r\n",
        "    def test_vidnoe(self):\r\n",
        "        testing_address = 'зеленые аллеи город видное дом 8'\r\n",
        "        res = self.Parser.find(testing_address).fact\r\n",
        "        self.assertEqual(res.city, 'город видное')\r\n",
        "        self.assertEqual(res.street, 'зеленые аллеи')\r\n",
        "        self.assertEqual(res.house, 'дом 8')\r\n",
        "        self.assertEqual(res.flat, None)\r\n",
        "\r\n",
        "    def test_zelinskogo(self):\r\n",
        "        testing_address = 'зелинского улица зелинского дом 2'\r\n",
        "        res = self.Parser.find(testing_address).fact\r\n",
        "        self.assertEqual(res.city, None)\r\n",
        "        self.assertEqual(res.street, 'улица зелинского')\r\n",
        "        self.assertEqual(res.house, 'дом 2')\r\n",
        "        self.assertEqual(res.flat, None)\r\n",
        "\r\n",
        "    def test_kuskovaya_corpus(self):\r\n",
        "        testing_address = 'Кусковская 19 корпус 1 '\r\n",
        "        res = self.Parser.find(testing_address).fact\r\n",
        "        self.assertEqual(res.city, None)\r\n",
        "        self.assertEqual(res.street, 'Кусковская')\r\n",
        "        self.assertEqual(res.house, '19')\r\n",
        "        self.assertEqual(res.corpus, 'корпус 1')\r\n",
        "        self.assertEqual(res.flat, None)\r\n",
        "\r\n",
        "    def test_shosse(self):\r\n",
        "        testing_address = 'москва щелковское шоссе 35'\r\n",
        "        res = self.Parser.find(testing_address).fact\r\n",
        "        self.assertEqual(res.city, 'москва')\r\n",
        "        self.assertEqual(res.street, 'щелковское шоссе')\r\n",
        "        self.assertEqual(res.house, '35')\r\n",
        "        self.assertEqual(res.flat, None)\r\n",
        "\r\n",
        "    def test_park(self):\r\n",
        "        testing_address = 'город москва марьинский парк дом 25 корпус 2'\r\n",
        "        res = self.Parser.find(testing_address).fact\r\n",
        "        self.assertEqual(res.city, 'город москва')\r\n",
        "        self.assertEqual(res.street, 'марьинский парк')\r\n",
        "        self.assertEqual(res.house, 'дом 25')\r\n",
        "        self.assertEqual(res.corpus, 'корпус 2')\r\n",
        "        self.assertEqual(res.flat, None)\r\n",
        "\r\n",
        "    def test_gai(self):\r\n",
        "        testing_address = 'Старый Гай 1 корпус 2'\r\n",
        "        res = self.Parser.find(testing_address).fact\r\n",
        "        self.assertEqual(res.city, None)\r\n",
        "        self.assertEqual(res.street, 'Старый Гай')\r\n",
        "        self.assertEqual(res.house, '1')\r\n",
        "        self.assertEqual(res.corpus, 'корпус 2')\r\n",
        "        self.assertEqual(res.flat, None)\r\n",
        "\r\n",
        "    def test_third_post(self):\r\n",
        "        testing_address = 'улица 3 почтовое отделение дом 62'\r\n",
        "        res = self.Parser.find(testing_address).fact\r\n",
        "        self.assertEqual(res.city, None)\r\n",
        "        self.assertEqual(res.street, 'улица 3 почтовое отделение')\r\n",
        "        self.assertEqual(res.house, 'дом 62')\r\n",
        "        self.assertEqual(res.flat, None)\r\n",
        "\r\n",
        "    def test_july_street(self):\r\n",
        "        testing_address = 'нижний новгород улица июльских дней 19'\r\n",
        "        res = self.Parser.find(testing_address).fact\r\n",
        "        self.assertEqual(res.city, 'нижний новгород')\r\n",
        "        self.assertEqual(res.street, 'улица июльских дней')\r\n",
        "        self.assertEqual(res.house, '19')\r\n",
        "        self.assertEqual(res.flat, None)\r\n",
        "\r\n",
        "    def test_val(self):\r\n",
        "        testing_address = 'так москва хамовнический вал но я думаю что я еще обсужу со своими домашними то есть вот у нас цифровое телевидение есть но акадо вот вы не спешите я тогда вам наберу но либо в приложения'\r\n",
        "        res = self.Parser.find(testing_address).fact\r\n",
        "        self.assertEqual(res.city, 'москва')\r\n",
        "        self.assertEqual(res.street, 'хамовнический вал')\r\n",
        "        self.assertEqual(res.house, None)\r\n",
        "        self.assertEqual(res.flat, None)\r\n",
        "\r\n",
        "    def test_semen_bilecky(self):\r\n",
        "        testing_address = 'город сургут улица семена билецкого 1'\r\n",
        "        res = self.Parser.find(testing_address).fact\r\n",
        "        self.assertEqual(res.city, 'город сургут')\r\n",
        "        self.assertEqual(res.street, 'улица семена билецкого')\r\n",
        "        self.assertEqual(res.house, '1')\r\n",
        "        self.assertEqual(res.flat, None)\r\n",
        "\r\n",
        "\r\n",
        "    def test_critical(self):\r\n",
        "        testing_address = 'улица значит антонова овсиенко дом 19/2'\r\n",
        "        res = self.Parser.find(testing_address).fact\r\n",
        "        self.assertEqual(res.city, None)\r\n",
        "        self.assertEqual(res.street, 'антонова овсиенко')\r\n",
        "        self.assertEqual(res.house, 'дом 19')\r\n",
        "        self.assertEqual(res.corpus, '/2')\r\n",
        "        self.assertEqual(res.flat, None)\r\n",
        "\r\n",
        "    def test_critical0(self):\r\n",
        "        testing_address = 'улица генерала армии епишева дом 9'\r\n",
        "        res = self.Parser.find(testing_address).fact\r\n",
        "        self.assertEqual(res.city, None)\r\n",
        "        self.assertEqual(res.street, 'улица генерала армии епишева')\r\n",
        "        self.assertEqual(res.house, 'дом 9')\r\n",
        "        self.assertEqual(res.corpus, None)\r\n",
        "        self.assertEqual(res.flat, None)\r\n",
        "\r\n",
        "\r\n",
        "    def test_critical1(self):\r\n",
        "        testing_address = 'улица академика байкова дом 9'\r\n",
        "        res = self.Parser.find(testing_address).fact\r\n",
        "        self.assertEqual(res.city, None)\r\n",
        "        self.assertEqual(res.street, 'улица академика байкова')\r\n",
        "        self.assertEqual(res.house, 'дом 9')\r\n",
        "        self.assertEqual(res.corpus, None)\r\n",
        "        self.assertEqual(res.flat, None)\r\n",
        "\r\n",
        "    def test_critical2(self):\r\n",
        "        testing_address = 'улица академика байкова дом дом дом 9'\r\n",
        "        res = self.Parser.find(testing_address).fact\r\n",
        "        self.assertEqual(res.city, None)\r\n",
        "        self.assertEqual(res.street, 'улица академика байкова')\r\n",
        "        self.assertEqual(res.house, 'дом 9')\r\n",
        "        self.assertEqual(res.corpus, None)\r\n",
        "        self.assertEqual(res.flat, None)\r\n",
        "\r\n",
        "    def test_critical2_3(self):\r\n",
        "        testing_address = 'улица подзаборного байкова дом дом дом 9'\r\n",
        "        res = self.Parser.find(testing_address).fact\r\n",
        "        self.assertEqual(res.city, None)\r\n",
        "        self.assertEqual(res.street, 'улица подзаборного байкова')\r\n",
        "        self.assertEqual(res.house, 'дом 9')\r\n",
        "        self.assertEqual(res.corpus, None)\r\n",
        "        self.assertEqual(res.flat, None)\r\n",
        "\r\n",
        "    def test_critical2_4(self):\r\n",
        "        testing_address = 'улица монтажника байкова дом дом дом 9'\r\n",
        "        res = self.Parser.find(testing_address).fact\r\n",
        "        self.assertEqual(res.city, None)\r\n",
        "        self.assertEqual(res.street, 'улица монтажника байкова')\r\n",
        "        self.assertEqual(res.house, 'дом 9')\r\n",
        "        self.assertEqual(res.corpus, None)\r\n",
        "        self.assertEqual(res.flat, None)\r\n",
        "\r\n",
        "    def test_critical3(self):\r\n",
        "        testing_address = 'такзначит у меня дом номер 12 а улица джона рида'\r\n",
        "        res = self.Parser.find(testing_address).fact\r\n",
        "        self.assertEqual(res.city, None)\r\n",
        "        self.assertEqual(res.street, 'улица джона рида')\r\n",
        "        self.assertEqual(res.house, '12')\r\n",
        "        self.assertEqual(res.corpus, None)\r\n",
        "        self.assertEqual(res.flat, None)"
      ],
      "execution_count": null,
      "outputs": []
    },
    {
      "cell_type": "code",
      "metadata": {
        "colab": {
          "base_uri": "https://localhost:8080/"
        },
        "id": "_UN2UO1nWGEr",
        "outputId": "4dc96087-ff1c-4a78-8e69-c32b4a39bc0a"
      },
      "source": [
        "unittest.main(argv=['first-arg-is-ignored'], exit=False)"
      ],
      "execution_count": null,
      "outputs": [
        {
          "output_type": "stream",
          "text": [
            ".................................................................................................\n",
            "----------------------------------------------------------------------\n",
            "Ran 97 tests in 27.837s\n",
            "\n",
            "OK\n"
          ],
          "name": "stderr"
        },
        {
          "output_type": "execute_result",
          "data": {
            "text/plain": [
              "<unittest.main.TestProgram at 0x7f51ceceafd0>"
            ]
          },
          "metadata": {
            "tags": []
          },
          "execution_count": 33
        }
      ]
    }
  ]
}