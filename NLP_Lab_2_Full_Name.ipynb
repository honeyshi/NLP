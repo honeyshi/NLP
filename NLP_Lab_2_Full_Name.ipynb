{
  "nbformat": 4,
  "nbformat_minor": 0,
  "metadata": {
    "colab": {
      "name": "NLP.Lab #2-Full Name.ipynb",
      "provenance": [],
      "authorship_tag": "ABX9TyOuBEKk5sEnY0vbYDUj5mYb"
    },
    "kernelspec": {
      "name": "python3",
      "display_name": "Python 3"
    }
  },
  "cells": [
    {
      "cell_type": "code",
      "metadata": {
        "id": "z8i3Ir3Y_Wtr"
      },
      "source": [
        "pip install yargy"
      ],
      "execution_count": null,
      "outputs": []
    },
    {
      "cell_type": "code",
      "metadata": {
        "id": "EfXHR23V6f-b"
      },
      "source": [
        "from yargy import Parser, rule, and_, not_, or_\n",
        "from yargy.interpretation import fact\n",
        "from yargy.relations import gnc_relation\n",
        "from yargy.predicates import gram, is_capitalized, type, caseless, eq, custom, normalized\n",
        "from yargy.tokenizer import Tokenizer"
      ],
      "execution_count": 3,
      "outputs": []
    },
    {
      "cell_type": "code",
      "metadata": {
        "id": "RQ9FehpjApmC"
      },
      "source": [
        "import unittest\n",
        "import pandas as pd"
      ],
      "execution_count": 4,
      "outputs": []
    },
    {
      "cell_type": "markdown",
      "metadata": {
        "id": "DWT4VGnnDjZX"
      },
      "source": [
        "### Yargy"
      ]
    },
    {
      "cell_type": "code",
      "metadata": {
        "id": "FFuiCj4WBWWa"
      },
      "source": [
        "gnc = gnc_relation()  # согласование по gender, number и case (падежу, числу и роду)"
      ],
      "execution_count": 5,
      "outputs": []
    },
    {
      "cell_type": "code",
      "metadata": {
        "id": "Lviu0UivBcFE"
      },
      "source": [
        "# Объект-результат интерпретации\n",
        "PersonInformation = fact(\n",
        "    'PersonInformation',\n",
        "    ['first', 'last', 'patronymic']\n",
        ")"
      ],
      "execution_count": 6,
      "outputs": []
    },
    {
      "cell_type": "markdown",
      "metadata": {
        "id": "JqOwJ0XLHiMx"
      },
      "source": [
        "В словаре Opencorpora, который использует pymorphy2, для имён ставится метка `Name`, для фамилий — метка `Surn`, для отчеств - метка `Patr`."
      ]
    },
    {
      "cell_type": "code",
      "metadata": {
        "id": "KN3If0_OCjuq"
      },
      "source": [
        "FIRST = gram('Name').interpretation(PersonInformation.first).match(gnc)"
      ],
      "execution_count": 7,
      "outputs": []
    },
    {
      "cell_type": "code",
      "metadata": {
        "id": "Txxnr7B-EmgA"
      },
      "source": [
        "LAST = gram('Surn').interpretation(PersonInformation.last).match(gnc)"
      ],
      "execution_count": 8,
      "outputs": []
    },
    {
      "cell_type": "code",
      "metadata": {
        "id": "G0NE3KAaEtlt"
      },
      "source": [
        "PATRONYMIC = gram('Patr').interpretation(PersonInformation.patronymic).match(gnc)"
      ],
      "execution_count": 9,
      "outputs": []
    },
    {
      "cell_type": "code",
      "metadata": {
        "id": "ySMakOa82ZEx"
      },
      "source": [
        "# случай, когда после \"по\" идет существительное в дательном падеже -> это предлог, а не фамилия (Есть фамилия писателя Эдгар Аллан По)\n",
        "PREPOSITION = rule(\n",
        "          caseless('по'),\n",
        "          not_(eq(gram('NOUN').interpretation(PersonInformation.first.inflected('datv'))))\n",
        "    )"
      ],
      "execution_count": 10,
      "outputs": []
    },
    {
      "cell_type": "code",
      "metadata": {
        "id": "iJfdzzkhC2Xg"
      },
      "source": [
        "def is_surname(name):\n",
        "  if ((name.endswith('ов') == True or name.endswith('ова') == True) or\n",
        "     (name.endswith('ев') == True or name.endswith('ева') == True) or\n",
        "     (name.endswith('ин') == True or name.endswith('ина') == True) or\n",
        "     (name.endswith('ын') == True or name.endswith('ына') == True) or\n",
        "     (name.endswith('их') == True) or (name.endswith('ых') == True) or\n",
        "     (name.endswith('ский') == True or name.endswith('ская') == True) or\n",
        "     (name.endswith('цкий') == True or name.endswith('цкая') == True)):\n",
        "    return name"
      ],
      "execution_count": 11,
      "outputs": []
    },
    {
      "cell_type": "code",
      "metadata": {
        "id": "s8C7QHRyraQ-"
      },
      "source": [
        "# фамилия, которую Opencorpora распознает как имя (но содержит суффикс фамилии)\n",
        "# ex. 'хамидов'\n",
        "SURNAME_LIKE_NAME = gram('Name').interpretation(PersonInformation.last.custom(is_surname))"
      ],
      "execution_count": 12,
      "outputs": []
    },
    {
      "cell_type": "code",
      "metadata": {
        "id": "shLZ5sAzPytm"
      },
      "source": [
        "# фамилия, которую Opencorpora распознает как существительное (но содержит суффикс фамилии)\n",
        "# ex. 'терминов'\n",
        "SURNAME_LIKE_NOUN = gram('NOUN').interpretation(PersonInformation.last.custom(is_surname))"
      ],
      "execution_count": 13,
      "outputs": []
    },
    {
      "cell_type": "code",
      "metadata": {
        "id": "PG5aEE67uXzJ"
      },
      "source": [
        "# фамилия, которую Opencorpora распознает как существительное, но без суффикса фамилии\n",
        "# ex. 'школьник нина викторовна'\n",
        "SURNAME_LIKE_NOUN_WITHOUT = rule(\n",
        "    and_(  \n",
        "        gram('NOUN'), gram('sing'), gram('nomn')\n",
        "    ).interpretation(PersonInformation.last)\n",
        ")"
      ],
      "execution_count": 14,
      "outputs": []
    },
    {
      "cell_type": "code",
      "metadata": {
        "id": "8Eb7apbHtH02"
      },
      "source": [
        "# фамилия, которую Opencorpora распознает как наречие, но без суффикса фамилии (у наречия больше шансов быть фамилией, если оно произошло от краткого прилагательного)\n",
        "# ex. 'грешно максим владимирович'\n",
        "SURNAME_LIKE_ADVB_WITHOUT = rule(\n",
        "    and_(\n",
        "        gram('ADVB'), gram('ADJS')\n",
        "    ).interpretation(PersonInformation.last)\n",
        ")"
      ],
      "execution_count": 15,
      "outputs": []
    },
    {
      "cell_type": "code",
      "metadata": {
        "id": "algflgEtFHQk"
      },
      "source": [
        "PERSON_INFO = or_(\n",
        "    # whole\n",
        "    rule(FIRST, LAST, PATRONYMIC),\n",
        "    rule(LAST, FIRST, PATRONYMIC),\n",
        "    rule(FIRST, PATRONYMIC, LAST),\n",
        "    rule(SURNAME_LIKE_NOUN_WITHOUT, FIRST, PATRONYMIC),\n",
        "    rule(SURNAME_LIKE_NAME, FIRST, PATRONYMIC),\n",
        "    rule(SURNAME_LIKE_NOUN, FIRST, PATRONYMIC),  \n",
        "    rule(SURNAME_LIKE_ADVB_WITHOUT, FIRST, PATRONYMIC),\n",
        "    # two words\n",
        "    rule(FIRST, LAST),\n",
        "    rule(LAST, FIRST),\n",
        "    rule(FIRST, PATRONYMIC),\n",
        "    rule(SURNAME_LIKE_NAME, FIRST),\n",
        "    rule(FIRST, SURNAME_LIKE_NAME),\n",
        "    # one word\n",
        "    PREPOSITION,\n",
        "    rule(FIRST),\n",
        "    rule(LAST),\n",
        "    rule(PATRONYMIC)\n",
        ").interpretation(PersonInformation)"
      ],
      "execution_count": 16,
      "outputs": []
    },
    {
      "cell_type": "code",
      "metadata": {
        "id": "SjNrBsaTFnQN"
      },
      "source": [
        "parser = Parser(PERSON_INFO)"
      ],
      "execution_count": 17,
      "outputs": []
    },
    {
      "cell_type": "code",
      "metadata": {
        "id": "25_-oqb5JTxK"
      },
      "source": [
        "class TestPersons(unittest.TestCase):\n",
        "    def setUp(self):\n",
        "        self.Parser = Parser(PERSON_INFO)\n",
        "\n",
        "    def test_1(self):\n",
        "        testing_address = 'Иванов Петр Васильевич'\n",
        "        res = parser.find(testing_address).fact\n",
        "        self.assertEqual(res.first, 'Петр')\n",
        "        self.assertEqual(res.patronymic, 'Васильевич')\n",
        "        self.assertEqual(res.last, 'Иванов')\n",
        "\n",
        "    def test_2(self):\n",
        "        testing_address = 'шипицын дмитрий вячеславович'\n",
        "        res = self.Parser.find(testing_address).fact\n",
        "        self.assertEqual(res.first, 'дмитрий')\n",
        "        self.assertEqual(res.patronymic, 'вячеславович')\n",
        "        self.assertEqual(res.last, 'шипицын')\n",
        "\n",
        "    def test_3(self):\n",
        "        testing_address = 'елена владимировна'\n",
        "        res = self.Parser.find(testing_address).fact\n",
        "        self.assertEqual(res.first, 'елена')\n",
        "        self.assertEqual(res.patronymic, 'владимировна')\n",
        "        self.assertEqual(res.last, None)\n",
        "\n",
        "    def test_4(self):\n",
        "        testing_address = 'басалаева юлия михайловна'\n",
        "        res = self.Parser.find(testing_address).fact\n",
        "        self.assertEqual(res.first, 'юлия')\n",
        "        self.assertEqual(res.patronymic, 'михайловна')\n",
        "        self.assertEqual(res.last, 'басалаева')\n",
        "\n",
        "    def test_5(self):\n",
        "        testing_address = 'ну я как раз по фамилии есть смотри мам'\n",
        "        res = self.Parser.find(testing_address).fact\n",
        "        self.assertEqual(res.first, None)\n",
        "        self.assertEqual(res.patronymic, None)\n",
        "        self.assertEqual(res.last, None)\n",
        "\n",
        "    def test_6(self):\n",
        "        testing_address = 'глушенков власти на android'\n",
        "        res = self.Parser.find(testing_address).fact\n",
        "        self.assertEqual(res.first, None)\n",
        "        self.assertEqual(res.patronymic, None)\n",
        "        self.assertEqual(res.last, 'глушенков')\n",
        "\n",
        "    def test_7(self):\n",
        "        testing_address = 'фамилию сказать что за фамилия терентьева людмила'\n",
        "        res = self.Parser.find(testing_address).fact\n",
        "        self.assertEqual(res.first, 'людмила')\n",
        "        self.assertEqual(res.patronymic, None)\n",
        "        self.assertEqual(res.last, 'терентьева')\n",
        "\n",
        "    def test_8(self):\n",
        "        testing_address = 'елена владимировна'\n",
        "        res = self.Parser.find(testing_address).fact\n",
        "        self.assertEqual(res.first, 'елена')\n",
        "        self.assertEqual(res.patronymic, 'владимировна')\n",
        "        self.assertEqual(res.last, None)\n",
        "\n",
        "    def test_9(self):\n",
        "        testing_address = 'анюта'\n",
        "        res = self.Parser.find(testing_address).fact\n",
        "        self.assertEqual(res.first, 'анюта')\n",
        "        self.assertEqual(res.patronymic, None)\n",
        "        self.assertEqual(res.last, None)\n",
        "\n",
        "    def test_10(self):\n",
        "        testing_address = 'р1 артем витальевич'\n",
        "        res = self.Parser.find(testing_address).fact\n",
        "        self.assertEqual(res.first, 'артем')\n",
        "        self.assertEqual(res.patronymic, 'витальевич')\n",
        "        self.assertEqual(res.last, None)\n",
        "        \n",
        "    def test_11(self):\n",
        "        testing_address = 'фитнес веретельников олег викторович'\n",
        "        res = self.Parser.find(testing_address).fact\n",
        "        self.assertEqual(res.first, 'олег')\n",
        "        self.assertEqual(res.patronymic, 'викторович')\n",
        "        self.assertEqual(res.last, 'веретельников')"
      ],
      "execution_count": 18,
      "outputs": []
    },
    {
      "cell_type": "code",
      "metadata": {
        "colab": {
          "base_uri": "https://localhost:8080/"
        },
        "id": "DRvjrNVidv-n",
        "outputId": "1762cd74-31a1-4399-f1da-49aa1c28652a"
      },
      "source": [
        "unittest.main(argv=['first-arg-is-ignored'], exit=False)"
      ],
      "execution_count": 19,
      "outputs": [
        {
          "output_type": "stream",
          "text": [
            "...........\n",
            "----------------------------------------------------------------------\n",
            "Ran 11 tests in 1.637s\n",
            "\n",
            "OK\n"
          ],
          "name": "stderr"
        },
        {
          "output_type": "execute_result",
          "data": {
            "text/plain": [
              "<unittest.main.TestProgram at 0x7f23fa01b080>"
            ]
          },
          "metadata": {
            "tags": []
          },
          "execution_count": 19
        }
      ]
    }
  ]
}